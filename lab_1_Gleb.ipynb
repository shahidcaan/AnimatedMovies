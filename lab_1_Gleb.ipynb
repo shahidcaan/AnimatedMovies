{
  "nbformat": 4,
  "nbformat_minor": 0,
  "metadata": {
    "colab": {
      "provenance": [],
      "authorship_tag": "ABX9TyMP+TNqmgHwEd8wBruw7/Xv",
      "include_colab_link": true
    },
    "kernelspec": {
      "name": "python3",
      "display_name": "Python 3"
    },
    "language_info": {
      "name": "python"
    }
  },
  "cells": [
    {
      "cell_type": "markdown",
      "metadata": {
        "id": "view-in-github",
        "colab_type": "text"
      },
      "source": [
        "<a href=\"https://colab.research.google.com/github/shahidcaan/AnimatedMovies/blob/master/lab_1_Gleb.ipynb\" target=\"_parent\"><img src=\"https://colab.research.google.com/assets/colab-badge.svg\" alt=\"Open In Colab\"/></a>"
      ]
    },
    {
      "cell_type": "code",
      "execution_count": 2,
      "metadata": {
        "colab": {
          "base_uri": "https://localhost:8080/"
        },
        "id": "5UU9U5XYo3DF",
        "outputId": "bec43e47-772c-46fd-90e7-d83abb2e67fa"
      },
      "outputs": [
        {
          "output_type": "stream",
          "name": "stdout",
          "text": [
            "Python 3.8.15\n"
          ]
        }
      ],
      "source": [
        "!python --version"
      ]
    },
    {
      "cell_type": "code",
      "source": [],
      "metadata": {
        "id": "jMx-3PcNo8ov"
      },
      "execution_count": null,
      "outputs": []
    },
    {
      "cell_type": "markdown",
      "source": [
        "-- Selection (if-else) + Iteration/loops (for (definite), while indefinite)\n",
        "-- Data Structures Array/List [], Tuples (), Dictionary{}, Vectors, 2,3 \n",
        "\n",
        "1.   List item\n",
        "2.   List item\n",
        "\n",
        "\n",
        "or more n Dim arrays (numpy)\n",
        "-- Strings (text)"
      ],
      "metadata": {
        "id": "5smx5xdzSlYb"
      }
    },
    {
      "cell_type": "code",
      "source": [
        "type(\"Bob\")\n",
        "type([])"
      ],
      "metadata": {
        "colab": {
          "base_uri": "https://localhost:8080/"
        },
        "id": "oeiavjfBUIxG",
        "outputId": "eb8c129d-0d80-40d7-abf6-def69d5d0b6d"
      },
      "execution_count": 2,
      "outputs": [
        {
          "output_type": "execute_result",
          "data": {
            "text/plain": [
              "list"
            ]
          },
          "metadata": {},
          "execution_count": 2
        }
      ]
    },
    {
      "cell_type": "code",
      "source": [
        "fruits = [\"apple\", \"oranges\", \"mangoes\"]\n",
        "price = [2.99, 3.99, 5.20]\n",
        "marks = [8,5,7,2,4]\n",
        "weights = [25.5, 14.87, 45.80]\n",
        "smoke = [True, False,False]"
      ],
      "metadata": {
        "id": "btyWC_lwTrye"
      },
      "execution_count": 24,
      "outputs": []
    },
    {
      "cell_type": "code",
      "source": [
        "fruits[1:]"
      ],
      "metadata": {
        "colab": {
          "base_uri": "https://localhost:8080/"
        },
        "id": "eZVqi1PJUbqw",
        "outputId": "2bb9927d-1464-4382-ead0-668c948b1dbb"
      },
      "execution_count": 6,
      "outputs": [
        {
          "output_type": "execute_result",
          "data": {
            "text/plain": [
              "['oranges', 'mangoes']"
            ]
          },
          "metadata": {},
          "execution_count": 6
        }
      ]
    },
    {
      "cell_type": "markdown",
      "source": [
        "Buit_in \\n"
      ],
      "metadata": {
        "id": "UCiER9cKWHLg"
      }
    },
    {
      "cell_type": "code",
      "source": [
        "print(\"Bob\\nTom\\nJimmy\")"
      ],
      "metadata": {
        "colab": {
          "base_uri": "https://localhost:8080/"
        },
        "id": "U6m_Q8wkWODP",
        "outputId": "086fd277-a597-4027-c086-ef192a01c0c2"
      },
      "execution_count": 16,
      "outputs": [
        {
          "output_type": "stream",
          "name": "stdout",
          "text": [
            "Bob\n",
            "Tom\n",
            "Jimmy\n"
          ]
        }
      ]
    },
    {
      "cell_type": "code",
      "source": [
        "for x in fruits:\n",
        "  print( x)"
      ],
      "metadata": {
        "colab": {
          "base_uri": "https://localhost:8080/"
        },
        "id": "7wc0NqiVVXYi",
        "outputId": "f46c5d6d-3f92-4dc1-da92-f0e395810ee6"
      },
      "execution_count": 18,
      "outputs": [
        {
          "output_type": "stream",
          "name": "stdout",
          "text": [
            "apple\n",
            "oranges\n",
            "mangoes\n"
          ]
        }
      ]
    },
    {
      "cell_type": "markdown",
      "source": [
        "range(5) = [0,1,2...4]"
      ],
      "metadata": {
        "id": "O-tcaTFjWt9H"
      }
    },
    {
      "cell_type": "code",
      "source": [
        "for x in range(3):\n",
        "  print(fruits[x] , price[x])"
      ],
      "metadata": {
        "colab": {
          "base_uri": "https://localhost:8080/"
        },
        "id": "csvIU1-xWovc",
        "outputId": "19ad900d-68bc-45eb-a3ba-636a17e47544"
      },
      "execution_count": 25,
      "outputs": [
        {
          "output_type": "stream",
          "name": "stdout",
          "text": [
            "apple 2.99\n",
            "oranges 3.99\n",
            "mangoes 5.2\n"
          ]
        }
      ]
    },
    {
      "cell_type": "code",
      "source": [
        "marks = [8,5,7,2,4,10,34,3]\n",
        "\n",
        "sum = 0\n",
        "\n",
        "for x in marks:\n",
        "  sum += x\n",
        "  \n",
        "sum/len(marks)\n"
      ],
      "metadata": {
        "colab": {
          "base_uri": "https://localhost:8080/"
        },
        "id": "AVGGCjzOXz63",
        "outputId": "2f2a0cce-63d8-4740-cb5e-f4fca3a3295e"
      },
      "execution_count": 35,
      "outputs": [
        {
          "output_type": "execute_result",
          "data": {
            "text/plain": [
              "9.125"
            ]
          },
          "metadata": {},
          "execution_count": 35
        }
      ]
    },
    {
      "cell_type": "code",
      "source": [
        "marks = [8,5,7,2,4,10,34,3]\n",
        "\n",
        "\n",
        "for x in marks:\n",
        "  if (x%2 == 0):\n",
        "    print(x , \"Even...\")\n",
        "  else:\n",
        "    print(x , \"Odd...\")"
      ],
      "metadata": {
        "colab": {
          "base_uri": "https://localhost:8080/"
        },
        "id": "4FrCtzX2Zhs1",
        "outputId": "c3af4062-d1f4-4c11-f0e8-1be2d532c51b"
      },
      "execution_count": 37,
      "outputs": [
        {
          "output_type": "stream",
          "name": "stdout",
          "text": [
            "8 Even...\n",
            "5 Odd...\n",
            "7 Odd...\n",
            "2 Even...\n",
            "4 Even...\n",
            "10 Even...\n",
            "34 Even...\n",
            "3 Odd...\n"
          ]
        }
      ]
    },
    {
      "cell_type": "code",
      "source": [
        "def addNum(a,b):\n",
        "  print(a+b)\n",
        "\n",
        "def addNum2(a,b):\n",
        "  return a+b\n",
        "\n",
        "\n",
        "#non-void, it means that they return\n",
        "\n",
        "def greetings():\n",
        "  return \"hello...\"\n",
        "\n",
        "\n",
        "#addNum(3,2)\n",
        "\n",
        "g = greetings()#call the function/invoke the method\n",
        "print(addNum2(4,5))\n",
        "print(g)"
      ],
      "metadata": {
        "colab": {
          "base_uri": "https://localhost:8080/"
        },
        "id": "nxcxx6hradGL",
        "outputId": "31a10644-ad58-4e3b-8b0b-a9cbf2ed5d74"
      },
      "execution_count": 46,
      "outputs": [
        {
          "output_type": "stream",
          "name": "stdout",
          "text": [
            "9\n",
            "<function greetings at 0x7fb9311ef280>\n"
          ]
        }
      ]
    },
    {
      "cell_type": "code",
      "source": [
        "#parameters/arguments\n",
        "def oddEven():\n",
        "  marks = [8,5,7,2,4,10,34,3]\n",
        "\n",
        "  for x in marks:\n",
        "    if (x%2 == 0):\n",
        "      print(x , \"Even...\")\n",
        "    else:\n",
        "      print(x , \"Odd...\")\n",
        "oddEven()"
      ],
      "metadata": {
        "colab": {
          "base_uri": "https://localhost:8080/"
        },
        "id": "AsjigSsaaHBB",
        "outputId": "1112d749-9f27-4eff-9a2e-3df26d6b47d9"
      },
      "execution_count": 39,
      "outputs": [
        {
          "output_type": "stream",
          "name": "stdout",
          "text": [
            "8 Even...\n",
            "5 Odd...\n",
            "7 Odd...\n",
            "2 Even...\n",
            "4 Even...\n",
            "10 Even...\n",
            "34 Even...\n",
            "3 Odd...\n"
          ]
        }
      ]
    },
    {
      "cell_type": "code",
      "source": [
        "dir([])"
      ],
      "metadata": {
        "id": "GOJ9fbEoczEL"
      },
      "execution_count": null,
      "outputs": []
    },
    {
      "cell_type": "code",
      "source": [
        "fruits = [\"apple\", \"oranges\", \"mangoes\"]\n",
        "\n",
        "fruits.append(\"pineapple\")\n",
        "\n",
        "fruits"
      ],
      "metadata": {
        "colab": {
          "base_uri": "https://localhost:8080/"
        },
        "id": "MSGQ8FhjcabF",
        "outputId": "f7816fe6-928f-4e18-9d06-c41de434f06b"
      },
      "execution_count": 56,
      "outputs": [
        {
          "output_type": "execute_result",
          "data": {
            "text/plain": [
              "['apple', 'oranges', 'mangoes', 'pineapple']"
            ]
          },
          "metadata": {},
          "execution_count": 56
        }
      ]
    },
    {
      "cell_type": "markdown",
      "source": [
        "### Q1\n",
        "Write a function shift_vowels(s) that takes as input a string s representing a word, sentence, or\n",
        "paragraph. Your task is to shift the vowels by two positions contained in the string, where vowels are\n",
        "the symbols a e i o u (and their capitalised versions A E I O U)."
      ],
      "metadata": {
        "id": "jMGA-8esfbg1"
      }
    },
    {
      "cell_type": "code",
      "source": [
        "\"a cat\".index(\"a\")"
      ],
      "metadata": {
        "colab": {
          "base_uri": "https://localhost:8080/"
        },
        "id": "BRwtF6N8hvCl",
        "outputId": "8d29f7e8-7399-41f7-e4a0-636a1b30e6a0"
      },
      "execution_count": 66,
      "outputs": [
        {
          "output_type": "execute_result",
          "data": {
            "text/plain": [
              "0"
            ]
          },
          "metadata": {},
          "execution_count": 66
        }
      ]
    },
    {
      "cell_type": "code",
      "source": [
        "dir([])"
      ],
      "metadata": {
        "id": "x6HQByoOlcc0"
      },
      "execution_count": null,
      "outputs": []
    },
    {
      "cell_type": "code",
      "source": [
        "vowelsList = [\"a\" ,\"e\", \"i\" , \"o\" , \"u\"]\n",
        "\n",
        "letter = \"e\"\n",
        "\n",
        "vowelsList.index(letter)"
      ],
      "metadata": {
        "colab": {
          "base_uri": "https://localhost:8080/"
        },
        "id": "FAKrYw3AlXMb",
        "outputId": "c8cde132-17ed-4900-9c66-dc73597781e4"
      },
      "execution_count": 76,
      "outputs": [
        {
          "output_type": "execute_result",
          "data": {
            "text/plain": [
              "1"
            ]
          },
          "metadata": {},
          "execution_count": 76
        }
      ]
    },
    {
      "cell_type": "code",
      "source": [
        "\n",
        "vowelsList = [\"a\" ,\"e\", \"i\" , \"o\" , \"u\"]\n",
        "\n",
        "def shift_vowels(s):\n",
        "  print(s)\n",
        "  for index in range(len(s)):\n",
        "\n",
        "    #Get the letter using the index from the s\n",
        "    letter = s[index]  #s[0] = a , s[1] \" \"\n",
        "\n",
        "    if (letter in vowelsList):\n",
        "      print(letter , index)\n",
        "\n",
        "      #Check the vowel list to replace it other vowel with 2 step\n",
        "      currentPosition = vowelsList.index(letter) # if it is a it means the index is 0\n",
        "      newPosition   =  currentPosition + 2\n",
        "\n",
        "shift_vowels(\"a cat is on the mat\")"
      ],
      "metadata": {
        "colab": {
          "base_uri": "https://localhost:8080/"
        },
        "id": "E3Yrmk0BfphK",
        "outputId": "2df1166a-2d78-47db-d8b4-476b08bf69f2"
      },
      "execution_count": 69,
      "outputs": [
        {
          "output_type": "stream",
          "name": "stdout",
          "text": [
            "a cat is on the mat\n",
            "a 0\n",
            "a 3\n",
            "i 6\n",
            "o 9\n",
            "e 14\n",
            "a 17\n"
          ]
        }
      ]
    }
  ]
}